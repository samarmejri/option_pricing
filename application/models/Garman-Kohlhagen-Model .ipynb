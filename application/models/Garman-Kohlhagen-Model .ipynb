{
 "cells": [
  {
   "cell_type": "code",
   "execution_count": 1,
   "id": "fa7ed1e6-c6ab-46ff-a418-d1771d75b194",
   "metadata": {},
   "outputs": [],
   "source": [
    "import numpy as np\n",
    "from scipy.stats import norm\n"
   ]
  },
  {
   "cell_type": "code",
   "execution_count": 2,
   "id": "87048a0a-63a2-42b8-a4d4-323c7e8b720d",
   "metadata": {},
   "outputs": [],
   "source": [
    "def garman_kohlhagen_option_pricing(S, K, T, r, rf, sigma):\n",
    "    d1 = (np.log(S / K) + (r - rf + 0.5 * sigma**2) * T) / (sigma * np.sqrt(T))\n",
    "    d2 = d1 - sigma * np.sqrt(T)\n",
    "\n",
    "    # For European call option\n",
    "    option_price = S * np.exp(-rf * T) * norm.cdf(d1) - K * np.exp(-r * T) * norm.cdf(d2)\n",
    "    return option_price\n"
   ]
  },
  {
   "cell_type": "code",
   "execution_count": 3,
   "id": "7124f828-b74a-49b7-8d0c-a7c22998df0e",
   "metadata": {},
   "outputs": [],
   "source": [
    "S = 1.3         # Current spot price (exchange rate EUR/USD)\n",
    "K = 1.35        # Strike price\n",
    "T = 0.5         # Time to maturity (in years)\n",
    "r = 0.05        # Risk-free interest rate of the base currency (USD)\n",
    "rf = 0.03       # Risk-free interest rate of the quote currency (EUR)\n",
    "sigma = 0.15    # Volatility"
   ]
  },
  {
   "cell_type": "code",
   "execution_count": 4,
   "id": "1dfca875-d447-4665-b32a-a747bb3ee1eb",
   "metadata": {},
   "outputs": [
    {
     "name": "stdout",
     "output_type": "stream",
     "text": [
      "The estimated option price is: 0.0388\n"
     ]
    }
   ],
   "source": [
    "option_price = garman_kohlhagen_option_pricing(S, K, T, r, rf, sigma)\n",
    "print(f\"The estimated option price is: {option_price:.4f}\")"
   ]
  },
  {
   "cell_type": "code",
   "execution_count": null,
   "id": "9a9fd756-134d-45de-93d6-5866e68f6c03",
   "metadata": {},
   "outputs": [],
   "source": []
  }
 ],
 "metadata": {
  "kernelspec": {
   "display_name": "Python 3 (ipykernel)",
   "language": "python",
   "name": "python3"
  },
  "language_info": {
   "codemirror_mode": {
    "name": "ipython",
    "version": 3
   },
   "file_extension": ".py",
   "mimetype": "text/x-python",
   "name": "python",
   "nbconvert_exporter": "python",
   "pygments_lexer": "ipython3",
   "version": "3.11.7"
  }
 },
 "nbformat": 4,
 "nbformat_minor": 5
}
